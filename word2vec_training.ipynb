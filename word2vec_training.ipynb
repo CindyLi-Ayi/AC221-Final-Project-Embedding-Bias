{
 "cells": [
  {
   "cell_type": "markdown",
   "metadata": {},
   "source": [
    "# Bias in embeddings trained from scratch:\n",
    "## *Where does bias in embeddings come from?*"
   ]
  },
  {
   "cell_type": "markdown",
   "metadata": {},
   "source": [
    "Notebook contents:\n",
    "1. Summary of bias metrics in the existing literature\n",
    "2. Training of word2vec on different training datasets (of varying sizes and sources)\n",
    "3. Visualizations and computations of bias metrics"
   ]
  },
  {
   "cell_type": "markdown",
   "metadata": {},
   "source": [
    "## 1. Bias metrics in the existing literature\n",
    "\n",
    "There are 3 prominent metrics in the literature (among others): projection of word embeddings along a gender direction (Bolukbasi, modified by Nissim), WEAT, and WEFAT (Caliskan, Bryson, Narayanan). Below we summarize these papers.\n",
    "\n",
    "#### 1. Bolukbasi et al. (NIPS 2016): \"Man is to Computer Programmer as Woman is to Homemaker? Debiasing Word Embeddings\" https://arxiv.org/abs/1607.06520\n",
    "\n",
    "#### 2. Nissim, van Noord, and van der Goot (2019): \"Fair is Better than Sensational: Man is to Doctor as Woman is to Doctor\" https://arxiv.org/abs/1905.09866\n",
    "\n",
    "#### 3. Caliskan, Bryson, and Narayanan (Science 2017): \"Semantics derived automatically from language corpora contain human-like biases\" https://purehost.bath.ac.uk/ws/portalfiles/portal/168480066/CaliskanEtAl_authors_full.pdf\n",
    "\n",
    "* IAT is one technique used (outside of word embeddings) to measure implicit human biases:\n",
    "    * \"Implicit Association Test\": assessment (on humans) introduced by Greenwald et al., where a word is categorized into one of two categories, and faster reaction time is considered as more deeply rooted association\n",
    "* Introduces new statistical test **WEAT** (Word Embedding Association Test) to measure biases in word embeddings\n",
    "    * analogous to the IAT: interpretation is \"how separated the two distributions (of associations between target and attribute) are\"\n",
    "    * inputs:\n",
    "        * 2 sets of target words:\n",
    "            * X. programmer/engineer/scientist/...\n",
    "            * Y. nurse/teacher/librarian/...) \n",
    "        * 2 sets of attribute words:\n",
    "            * A. man/male/...\n",
    "            * B. woman/female/...):\n",
    "    * test statistic:\n",
    "        * intuitively, difference between association of two sets of target words, with attributes\n",
    "        * $s(X, Y, A, B) = \\sum_{x \\in X} s(x, A, B) - \\sum_{y \\in Y} s(y, A, B)$\n",
    "        * $s(w, A, B) = mean_{a \\in A} cos(w, a) - mean_{b \\in B} cos(w, b)$\n",
    "    * p-value of permutation test (permuting target words)\n",
    "        * $Pr_i[s(X_i, Y_i, A, B) > s(X, Y, A, B)]$\n",
    "        * effect size: $\\frac{mean_{x \\in X} s(x, A, B) - mean_{y \\in Y} s(y, A, B)}{sd_{w \\in X \\bigcup Y} s(w, A, B)}$\n",
    "    * Obtains similar results to original finding in Greenwald et al.\n",
    "* Introduces **WEFAT** (Word Embedding Factual Association Test):\n",
    "    * instead of using target word embeddings, use real-valued factual property, e.g. % female workers in occupation)\n",
    "    * difference in avg. cos similarity (between attribute A and target property, vs. attribute B and target property), divided by standard deviation of cos similarity (across each combination of attribute - target property) \n",
    "    * high correlation between % of women in different occupations, vs. strength of association of word vector w/ female gender"
   ]
  },
  {
   "cell_type": "markdown",
   "metadata": {},
   "source": [
    "## 2. word2vec model training from scratch\n",
    "\n",
    "####  Dataset grid:\n",
    "Training size: \n",
    "* {10k, 15k, 20k, 25k, 30k}\n",
    "\n",
    "Text source:\n",
    "* TweetEval: labeled tweet dataset (e.g. sentiment, hate, emotion): https://huggingface.co/datasets/tweet_eval\n",
    "* Reddit: unlabeled reddit post dataset: https://huggingface.co/datasets/reddit\n",
    "* CNN/DailyMail: news article text with highlights: https://huggingface.co/datasets/cnn_dailymail\n",
    "\n",
    "*Potential future extensions:*\n",
    "* Historical texts (unfortunately most of these are not freely available):\n",
    "     * Pretrained historical word vectors: pre-trained word vectors trained on historical books from various decades from 1880s - 1990s: https://nlp.stanford.edu/projects/histwords/\n",
    "     * The New York Times Annotated Corpus: articles with metadata from 1987-2007: https://catalog.ldc.upenn.edu/LDC2008T19\n",
    "     * informal private letters by British writers, covering the period 1861 to 1919 (available here: http://www.llc.manchester.ac.uk/subjects/lel/staff/david-denison/lmode-prose/)"
   ]
  },
  {
   "cell_type": "code",
   "execution_count": 35,
   "metadata": {
    "scrolled": true
   },
   "outputs": [],
   "source": [
    "from typing import Tuple, Dict, List\n",
    "import re\n",
    "from datasets import load_dataset\n",
    "from os.path import exists\n",
    "import numpy as np\n",
    "import random\n",
    "from nltk.corpus import stopwords\n",
    "from nltk.stem.snowball import SnowballStemmer\n",
    "from gensim.models import Word2Vec, KeyedVectors\n",
    "from gensim.models.callbacks import CallbackAny2Vec\n",
    "\n",
    "# Set global parameters:\n",
    "STEM = False # whether to stem words during tokenization\n",
    "punc = '!\"#$%&()*+,-./:;<=>?@[\\\\]^_`{|}~—“”'\n",
    "ss = SnowballStemmer('english')\n",
    "sw = stopwords.words('english')\n",
    "LR = 0.01\n",
    "EPOCHS = 15\n",
    "WINDOW = 5 # context window for CBOW\n",
    "MIN_COUNT = 5 # ignore words w fewer than MIN_COUNT counts\n",
    "REMOVE_STOPWORDS = False\n",
    "SUBSET_RANDOMLY = False # whether to randomly subset the data, or by index\n",
    "\n",
    "# Text preprocessing functions:\n",
    "def remove_punc(text: str, punc: str) -> str:\n",
    "    return text.translate({ord(p):'' for p in punc})\n",
    "\n",
    "def split_on_whitespace(text: str) -> List[str]:\n",
    "    if text: return re.split('\\s+', text)\n",
    "    else: return []\n",
    "\n",
    "def tokenize(text: str, punc: str, stem = STEM, remove_stopwords = REMOVE_STOPWORDS) -> List[str]:\n",
    "    tokens = [i for i in split_on_whitespace(remove_punc(text, punc).lower()) if len(i)]\n",
    "    if remove_stopwords:\n",
    "        tokens = [i for i in tokens if i not in sw]\n",
    "    if stem:\n",
    "        return [ss.stem(i) for i in tokens]\n",
    "    return tokens\n",
    "\n",
    "def load_corpus(texts: List[str], punc: str) -> List[List[str]]:\n",
    "    tokenized_docs = []\n",
    "    for t in texts:\n",
    "        tokenized_docs.append(tokenize(t, punc))\n",
    "    return tokenized_docs\n",
    "\n",
    "# Callback for printing loss after each epoch when training word2vec with gensim:\n",
    "# https://stackoverflow.com/questions/54888490/gensim-word2vec-print-log-loss\n",
    "class callback(CallbackAny2Vec):\n",
    "    '''Callback to print loss after each epoch.'''\n",
    "\n",
    "    def __init__(self):\n",
    "        self.epoch = 0\n",
    "        self.prev_loss = 0\n",
    "\n",
    "    def on_epoch_end(self, model):\n",
    "        loss = model.get_latest_training_loss()\n",
    "        cur_loss = loss - self.prev_loss\n",
    "        self.prev_loss = loss\n",
    "        print('Loss after epoch {}: {}'.format(self.epoch, cur_loss))\n",
    "        self.epoch += 1\n",
    "        \n",
    "# Obtain list with one text string per document, using huggingface dataset\n",
    "def get_data(dataset_name, max_records = 5000, subset_randomly = SUBSET_RANDOMLY):\n",
    "    if dataset_name == \"tweet_eval\":\n",
    "        dataset = load_dataset(dataset_name, \"sentiment\")\n",
    "        X_train = dataset['train']['text']\n",
    "        X_train = [i.replace('@user', '') for i in X_train] #strip @ mentions\n",
    "    elif dataset_name == \"reddit\":\n",
    "        dataset = load_dataset(dataset_name)\n",
    "        X_train = dataset['train']['normalizedBody']\n",
    "    elif dataset_name == \"cnn_dailymail\":\n",
    "        dataset = load_dataset(dataset_name, '3.0.0')\n",
    "        X_train = dataset['train']['article']\n",
    "    else:\n",
    "        raise NotImplementedError(\"Specified dataset not recognized.\")\n",
    "        \n",
    "    if subset_randomly:\n",
    "        # Set seed for random subsetting of data (to reduce training set to make training feasible)\n",
    "        random.seed(1)\n",
    "        X_train = random.sample(X_train, max_records)\n",
    "    else:\n",
    "        X_train = X_train[:max_records]\n",
    "    return X_train"
   ]
  },
  {
   "cell_type": "code",
   "execution_count": 36,
   "metadata": {},
   "outputs": [
    {
     "name": "stdout",
     "output_type": "stream",
     "text": [
      "Dataset tweet_eval, size 10000\n",
      "data/tweet_eval_10000_vectors.kv not found. Training word vectors on tweet_eval dataset...\n"
     ]
    },
    {
     "name": "stderr",
     "output_type": "stream",
     "text": [
      "Reusing dataset tweet_eval (/home/morrisreeves/.cache/huggingface/datasets/tweet_eval/sentiment/1.1.0/12aee5282b8784f3e95459466db4cdf45c6bf49719c25cdb0743d71ed0410343)\n"
     ]
    },
    {
     "data": {
      "application/vnd.jupyter.widget-view+json": {
       "model_id": "8ac9a4c184474f9b935aff9e09a64514",
       "version_major": 2,
       "version_minor": 0
      },
      "text/plain": [
       "  0%|          | 0/3 [00:00<?, ?it/s]"
      ]
     },
     "metadata": {},
     "output_type": "display_data"
    },
    {
     "name": "stdout",
     "output_type": "stream",
     "text": [
      "Loss after epoch 0: 81169.609375\n",
      "Loss after epoch 1: 64588.21875\n",
      "Loss after epoch 2: 58076.53125\n",
      "Loss after epoch 3: 57554.09375\n",
      "Loss after epoch 4: 37352.953125\n",
      "Loss after epoch 5: 50286.53125\n",
      "Loss after epoch 6: 37287.5625\n",
      "Loss after epoch 7: 55481.34375\n",
      "Loss after epoch 8: 49057.71875\n",
      "Loss after epoch 9: 54970.8125\n",
      "Loss after epoch 10: 48477.4375\n",
      "Loss after epoch 11: 54481.125\n",
      "Loss after epoch 12: 36397.875\n",
      "Loss after epoch 13: 53934.625\n",
      "Loss after epoch 14: 53845.875\n",
      "Finished training. Saved embeddings to data/tweet_eval_10000_vectors.kv.\n",
      "Dataset tweet_eval, size 15000\n",
      "data/tweet_eval_15000_vectors.kv not found. Training word vectors on tweet_eval dataset...\n"
     ]
    },
    {
     "name": "stderr",
     "output_type": "stream",
     "text": [
      "Reusing dataset tweet_eval (/home/morrisreeves/.cache/huggingface/datasets/tweet_eval/sentiment/1.1.0/12aee5282b8784f3e95459466db4cdf45c6bf49719c25cdb0743d71ed0410343)\n"
     ]
    },
    {
     "data": {
      "application/vnd.jupyter.widget-view+json": {
       "model_id": "d4c5fc9744284f2cbe83607750b48dc4",
       "version_major": 2,
       "version_minor": 0
      },
      "text/plain": [
       "  0%|          | 0/3 [00:00<?, ?it/s]"
      ]
     },
     "metadata": {},
     "output_type": "display_data"
    },
    {
     "name": "stdout",
     "output_type": "stream",
     "text": [
      "Loss after epoch 0: 106112.640625\n",
      "Loss after epoch 1: 84214.296875\n",
      "Loss after epoch 2: 79961.5625\n",
      "Loss after epoch 3: 79035.03125\n",
      "Loss after epoch 4: 57706.1875\n",
      "Loss after epoch 5: 76413.5\n",
      "Loss after epoch 6: 75096.21875\n",
      "Loss after epoch 7: 75060.6875\n",
      "Loss after epoch 8: 74408.75\n",
      "Loss after epoch 9: 74069.25\n",
      "Loss after epoch 10: 73201.9375\n",
      "Loss after epoch 11: 73406.9375\n",
      "Loss after epoch 12: 72144.8125\n",
      "Loss after epoch 13: 72503.9375\n",
      "Loss after epoch 14: 71778.0\n",
      "Finished training. Saved embeddings to data/tweet_eval_15000_vectors.kv.\n",
      "Dataset tweet_eval, size 20000\n",
      "data/tweet_eval_20000_vectors.kv not found. Training word vectors on tweet_eval dataset...\n"
     ]
    },
    {
     "name": "stderr",
     "output_type": "stream",
     "text": [
      "Reusing dataset tweet_eval (/home/morrisreeves/.cache/huggingface/datasets/tweet_eval/sentiment/1.1.0/12aee5282b8784f3e95459466db4cdf45c6bf49719c25cdb0743d71ed0410343)\n"
     ]
    },
    {
     "data": {
      "application/vnd.jupyter.widget-view+json": {
       "model_id": "a87188beae254e09b809b7f0981552bd",
       "version_major": 2,
       "version_minor": 0
      },
      "text/plain": [
       "  0%|          | 0/3 [00:00<?, ?it/s]"
      ]
     },
     "metadata": {},
     "output_type": "display_data"
    },
    {
     "name": "stdout",
     "output_type": "stream",
     "text": [
      "Loss after epoch 0: 131389.59375\n",
      "Loss after epoch 1: 83684.171875\n",
      "Loss after epoch 2: 100672.984375\n",
      "Loss after epoch 3: 99139.53125\n",
      "Loss after epoch 4: 116537.34375\n",
      "Loss after epoch 5: 95592.625\n",
      "Loss after epoch 6: 113297.8125\n",
      "Loss after epoch 7: 93656.5625\n",
      "Loss after epoch 8: 92422.5625\n",
      "Loss after epoch 9: 91316.75\n",
      "Loss after epoch 10: 90874.5625\n",
      "Loss after epoch 11: 90851.875\n",
      "Loss after epoch 12: 90128.625\n",
      "Loss after epoch 13: 89975.25\n",
      "Loss after epoch 14: 88987.0\n",
      "Finished training. Saved embeddings to data/tweet_eval_20000_vectors.kv.\n",
      "Dataset tweet_eval, size 25000\n",
      "data/tweet_eval_25000_vectors.kv not found. Training word vectors on tweet_eval dataset...\n"
     ]
    },
    {
     "name": "stderr",
     "output_type": "stream",
     "text": [
      "Reusing dataset tweet_eval (/home/morrisreeves/.cache/huggingface/datasets/tweet_eval/sentiment/1.1.0/12aee5282b8784f3e95459466db4cdf45c6bf49719c25cdb0743d71ed0410343)\n"
     ]
    },
    {
     "data": {
      "application/vnd.jupyter.widget-view+json": {
       "model_id": "3a781ee89bf24fddb6a905d3b8e28c66",
       "version_major": 2,
       "version_minor": 0
      },
      "text/plain": [
       "  0%|          | 0/3 [00:00<?, ?it/s]"
      ]
     },
     "metadata": {},
     "output_type": "display_data"
    },
    {
     "name": "stdout",
     "output_type": "stream",
     "text": [
      "Loss after epoch 0: 155324.640625\n",
      "Loss after epoch 1: 125175.359375\n",
      "Loss after epoch 2: 121420.6875\n",
      "Loss after epoch 3: 132998.5\n",
      "Loss after epoch 4: 135568.375\n",
      "Loss after epoch 5: 133335.875\n",
      "Loss after epoch 6: 112440.75\n",
      "Loss after epoch 7: 111452.4375\n",
      "Loss after epoch 8: 128062.875\n",
      "Loss after epoch 9: 127017.5\n",
      "Loss after epoch 10: 107662.375\n",
      "Loss after epoch 11: 120498.375\n",
      "Loss after epoch 12: 106416.5\n",
      "Loss after epoch 13: 106098.125\n",
      "Loss after epoch 14: 105973.5\n",
      "Finished training. Saved embeddings to data/tweet_eval_25000_vectors.kv.\n",
      "Dataset tweet_eval, size 30000\n",
      "data/tweet_eval_30000_vectors.kv not found. Training word vectors on tweet_eval dataset...\n"
     ]
    },
    {
     "name": "stderr",
     "output_type": "stream",
     "text": [
      "Reusing dataset tweet_eval (/home/morrisreeves/.cache/huggingface/datasets/tweet_eval/sentiment/1.1.0/12aee5282b8784f3e95459466db4cdf45c6bf49719c25cdb0743d71ed0410343)\n"
     ]
    },
    {
     "data": {
      "application/vnd.jupyter.widget-view+json": {
       "model_id": "823fddd896c14b8c8fc950296cfd3403",
       "version_major": 2,
       "version_minor": 0
      },
      "text/plain": [
       "  0%|          | 0/3 [00:00<?, ?it/s]"
      ]
     },
     "metadata": {},
     "output_type": "display_data"
    },
    {
     "name": "stdout",
     "output_type": "stream",
     "text": [
      "Loss after epoch 0: 206263.3125\n",
      "Loss after epoch 1: 146566.125\n",
      "Loss after epoch 2: 161657.75\n",
      "Loss after epoch 3: 138034.625\n",
      "Loss after epoch 4: 134797.25\n",
      "Loss after epoch 5: 151267.0\n",
      "Loss after epoch 6: 130265.9375\n",
      "Loss after epoch 7: 146611.75\n",
      "Loss after epoch 8: 126259.125\n",
      "Loss after epoch 9: 124818.5\n",
      "Loss after epoch 10: 141621.25\n",
      "Loss after epoch 11: 140482.0\n",
      "Loss after epoch 12: 139241.25\n",
      "Loss after epoch 13: 121533.875\n",
      "Loss after epoch 14: 121431.25\n",
      "Finished training. Saved embeddings to data/tweet_eval_30000_vectors.kv.\n",
      "Dataset reddit, size 10000\n",
      "data/reddit_10000_vectors.kv not found. Training word vectors on reddit dataset...\n"
     ]
    },
    {
     "name": "stderr",
     "output_type": "stream",
     "text": [
      "Using custom data configuration default\n",
      "Reusing dataset reddit (/home/morrisreeves/.cache/huggingface/datasets/reddit/default/1.0.0/98ba5abea674d3178f7588aa6518a5510dc0c6fa8176d9653a3546d5afcb3969)\n"
     ]
    },
    {
     "data": {
      "application/vnd.jupyter.widget-view+json": {
       "model_id": "ffc6ada20e41483a850b462144bda800",
       "version_major": 2,
       "version_minor": 0
      },
      "text/plain": [
       "  0%|          | 0/1 [00:00<?, ?it/s]"
      ]
     },
     "metadata": {},
     "output_type": "display_data"
    },
    {
     "name": "stdout",
     "output_type": "stream",
     "text": [
      "Loss after epoch 0: 624850.8125\n",
      "Loss after epoch 1: 541240.6875\n",
      "Loss after epoch 2: 518418.875\n",
      "Loss after epoch 3: 520263.875\n",
      "Loss after epoch 4: 492121.5\n",
      "Loss after epoch 5: 491071.75\n",
      "Loss after epoch 6: 455827.0\n",
      "Loss after epoch 7: 448421.75\n",
      "Loss after epoch 8: 424163.75\n",
      "Loss after epoch 9: 387162.5\n",
      "Loss after epoch 10: 401110.0\n",
      "Loss after epoch 11: 398371.5\n",
      "Loss after epoch 12: 384173.5\n",
      "Loss after epoch 13: 370357.0\n",
      "Loss after epoch 14: 379962.5\n",
      "Finished training. Saved embeddings to data/reddit_10000_vectors.kv.\n",
      "Dataset reddit, size 15000\n",
      "data/reddit_15000_vectors.kv not found. Training word vectors on reddit dataset...\n"
     ]
    },
    {
     "name": "stderr",
     "output_type": "stream",
     "text": [
      "Using custom data configuration default\n",
      "Reusing dataset reddit (/home/morrisreeves/.cache/huggingface/datasets/reddit/default/1.0.0/98ba5abea674d3178f7588aa6518a5510dc0c6fa8176d9653a3546d5afcb3969)\n"
     ]
    },
    {
     "data": {
      "application/vnd.jupyter.widget-view+json": {
       "model_id": "4fdd15e00c4049359de9b8c1d1bc27e6",
       "version_major": 2,
       "version_minor": 0
      },
      "text/plain": [
       "  0%|          | 0/1 [00:00<?, ?it/s]"
      ]
     },
     "metadata": {},
     "output_type": "display_data"
    },
    {
     "name": "stdout",
     "output_type": "stream",
     "text": [
      "Loss after epoch 0: 923970.6875\n",
      "Loss after epoch 1: 803817.3125\n",
      "Loss after epoch 2: 744533.25\n",
      "Loss after epoch 3: 734396.0\n",
      "Loss after epoch 4: 734361.0\n",
      "Loss after epoch 5: 615827.25\n",
      "Loss after epoch 6: 610612.5\n",
      "Loss after epoch 7: 608734.0\n",
      "Loss after epoch 8: 580065.5\n",
      "Loss after epoch 9: 590639.5\n",
      "Loss after epoch 10: 568724.0\n",
      "Loss after epoch 11: 557485.0\n",
      "Loss after epoch 12: 513104.0\n",
      "Loss after epoch 13: 466200.0\n",
      "Loss after epoch 14: 509183.0\n",
      "Finished training. Saved embeddings to data/reddit_15000_vectors.kv.\n",
      "Dataset reddit, size 20000\n",
      "data/reddit_20000_vectors.kv not found. Training word vectors on reddit dataset...\n"
     ]
    },
    {
     "name": "stderr",
     "output_type": "stream",
     "text": [
      "Using custom data configuration default\n",
      "Reusing dataset reddit (/home/morrisreeves/.cache/huggingface/datasets/reddit/default/1.0.0/98ba5abea674d3178f7588aa6518a5510dc0c6fa8176d9653a3546d5afcb3969)\n"
     ]
    },
    {
     "data": {
      "application/vnd.jupyter.widget-view+json": {
       "model_id": "e13fe24982144abd922aa3b75158c9fa",
       "version_major": 2,
       "version_minor": 0
      },
      "text/plain": [
       "  0%|          | 0/1 [00:00<?, ?it/s]"
      ]
     },
     "metadata": {},
     "output_type": "display_data"
    },
    {
     "name": "stdout",
     "output_type": "stream",
     "text": [
      "Loss after epoch 0: 1213925.875\n",
      "Loss after epoch 1: 1017907.125\n",
      "Loss after epoch 2: 938734.0\n",
      "Loss after epoch 3: 957877.5\n",
      "Loss after epoch 4: 800024.5\n",
      "Loss after epoch 5: 777472.5\n",
      "Loss after epoch 6: 775326.5\n",
      "Loss after epoch 7: 734074.0\n",
      "Loss after epoch 8: 761976.0\n",
      "Loss after epoch 9: 719340.0\n",
      "Loss after epoch 10: 635391.0\n",
      "Loss after epoch 11: 640706.0\n",
      "Loss after epoch 12: 638106.0\n",
      "Loss after epoch 13: 621641.0\n",
      "Loss after epoch 14: 641133.0\n",
      "Finished training. Saved embeddings to data/reddit_20000_vectors.kv.\n",
      "Dataset reddit, size 25000\n",
      "data/reddit_25000_vectors.kv not found. Training word vectors on reddit dataset...\n"
     ]
    },
    {
     "name": "stderr",
     "output_type": "stream",
     "text": [
      "Using custom data configuration default\n",
      "Reusing dataset reddit (/home/morrisreeves/.cache/huggingface/datasets/reddit/default/1.0.0/98ba5abea674d3178f7588aa6518a5510dc0c6fa8176d9653a3546d5afcb3969)\n"
     ]
    },
    {
     "data": {
      "application/vnd.jupyter.widget-view+json": {
       "model_id": "50da7c061e064d9a98b6f5a512a87f33",
       "version_major": 2,
       "version_minor": 0
      },
      "text/plain": [
       "  0%|          | 0/1 [00:00<?, ?it/s]"
      ]
     },
     "metadata": {},
     "output_type": "display_data"
    },
    {
     "name": "stdout",
     "output_type": "stream",
     "text": [
      "Loss after epoch 0: 1383282.25\n",
      "Loss after epoch 1: 1261543.0\n",
      "Loss after epoch 2: 1140739.25\n",
      "Loss after epoch 3: 1068754.0\n",
      "Loss after epoch 4: 970101.0\n",
      "Loss after epoch 5: 980668.5\n",
      "Loss after epoch 6: 967201.0\n",
      "Loss after epoch 7: 937965.0\n",
      "Loss after epoch 8: 825793.0\n",
      "Loss after epoch 9: 810360.0\n",
      "Loss after epoch 10: 799678.0\n",
      "Loss after epoch 11: 786340.0\n",
      "Loss after epoch 12: 810301.0\n",
      "Loss after epoch 13: 777092.0\n",
      "Loss after epoch 14: 770493.0\n",
      "Finished training. Saved embeddings to data/reddit_25000_vectors.kv.\n",
      "Dataset reddit, size 30000\n",
      "data/reddit_30000_vectors.kv not found. Training word vectors on reddit dataset...\n"
     ]
    },
    {
     "name": "stderr",
     "output_type": "stream",
     "text": [
      "Using custom data configuration default\n",
      "Reusing dataset reddit (/home/morrisreeves/.cache/huggingface/datasets/reddit/default/1.0.0/98ba5abea674d3178f7588aa6518a5510dc0c6fa8176d9653a3546d5afcb3969)\n"
     ]
    },
    {
     "data": {
      "application/vnd.jupyter.widget-view+json": {
       "model_id": "842c2b85c17346c0909314e5386510ce",
       "version_major": 2,
       "version_minor": 0
      },
      "text/plain": [
       "  0%|          | 0/1 [00:00<?, ?it/s]"
      ]
     },
     "metadata": {},
     "output_type": "display_data"
    },
    {
     "name": "stdout",
     "output_type": "stream",
     "text": [
      "Loss after epoch 0: 1721372.0\n",
      "Loss after epoch 1: 1482967.5\n",
      "Loss after epoch 2: 1364776.0\n",
      "Loss after epoch 3: 1171010.5\n",
      "Loss after epoch 4: 1169889.5\n",
      "Loss after epoch 5: 1121304.0\n",
      "Loss after epoch 6: 1044941.5\n",
      "Loss after epoch 7: 999740.0\n",
      "Loss after epoch 8: 1019834.0\n",
      "Loss after epoch 9: 992997.0\n",
      "Loss after epoch 10: 948251.0\n",
      "Loss after epoch 11: 963109.0\n",
      "Loss after epoch 12: 967819.0\n",
      "Loss after epoch 13: 938734.0\n",
      "Loss after epoch 14: 935927.0\n",
      "Finished training. Saved embeddings to data/reddit_30000_vectors.kv.\n",
      "Dataset cnn_dailymail, size 10000\n",
      "data/cnn_dailymail_10000_vectors.kv not found. Training word vectors on cnn_dailymail dataset...\n"
     ]
    },
    {
     "name": "stderr",
     "output_type": "stream",
     "text": [
      "Reusing dataset cnn_dailymail (/home/morrisreeves/.cache/huggingface/datasets/cnn_dailymail/3.0.0/3.0.0/3cb851bf7cf5826e45d49db2863f627cba583cbc32342df7349dfe6c38060234)\n"
     ]
    },
    {
     "data": {
      "application/vnd.jupyter.widget-view+json": {
       "model_id": "962f1647e9074782ab11698e572f9d14",
       "version_major": 2,
       "version_minor": 0
      },
      "text/plain": [
       "  0%|          | 0/3 [00:00<?, ?it/s]"
      ]
     },
     "metadata": {},
     "output_type": "display_data"
    },
    {
     "name": "stdout",
     "output_type": "stream",
     "text": [
      "Loss after epoch 0: 1773608.125\n",
      "Loss after epoch 1: 1418314.125\n",
      "Loss after epoch 2: 1290553.25\n",
      "Loss after epoch 3: 1157386.0\n",
      "Loss after epoch 4: 1072117.0\n",
      "Loss after epoch 5: 1091712.5\n",
      "Loss after epoch 6: 998952.0\n",
      "Loss after epoch 7: 919930.0\n",
      "Loss after epoch 8: 911533.0\n",
      "Loss after epoch 9: 862651.0\n",
      "Loss after epoch 10: 878155.0\n",
      "Loss after epoch 11: 871800.0\n",
      "Loss after epoch 12: 879351.0\n",
      "Loss after epoch 13: 869842.0\n",
      "Loss after epoch 14: 846925.0\n",
      "Finished training. Saved embeddings to data/cnn_dailymail_10000_vectors.kv.\n",
      "Dataset cnn_dailymail, size 15000\n",
      "data/cnn_dailymail_15000_vectors.kv not found. Training word vectors on cnn_dailymail dataset...\n"
     ]
    },
    {
     "name": "stderr",
     "output_type": "stream",
     "text": [
      "Reusing dataset cnn_dailymail (/home/morrisreeves/.cache/huggingface/datasets/cnn_dailymail/3.0.0/3.0.0/3cb851bf7cf5826e45d49db2863f627cba583cbc32342df7349dfe6c38060234)\n"
     ]
    },
    {
     "data": {
      "application/vnd.jupyter.widget-view+json": {
       "model_id": "9eb4a6af669b452f9b53b7bc3e85ca6d",
       "version_major": 2,
       "version_minor": 0
      },
      "text/plain": [
       "  0%|          | 0/3 [00:00<?, ?it/s]"
      ]
     },
     "metadata": {},
     "output_type": "display_data"
    },
    {
     "name": "stdout",
     "output_type": "stream",
     "text": [
      "Loss after epoch 0: 2489228.0\n",
      "Loss after epoch 1: 2038571.0\n",
      "Loss after epoch 2: 1689467.5\n",
      "Loss after epoch 3: 1632808.5\n",
      "Loss after epoch 4: 1462967.0\n",
      "Loss after epoch 5: 1350576.0\n",
      "Loss after epoch 6: 1357243.0\n",
      "Loss after epoch 7: 1356595.0\n",
      "Loss after epoch 8: 1339159.0\n",
      "Loss after epoch 9: 1337905.0\n",
      "Loss after epoch 10: 1220936.0\n",
      "Loss after epoch 11: 1114286.0\n",
      "Loss after epoch 12: 1083964.0\n",
      "Loss after epoch 13: 1095014.0\n",
      "Loss after epoch 14: 1092542.0\n",
      "Finished training. Saved embeddings to data/cnn_dailymail_15000_vectors.kv.\n",
      "Dataset cnn_dailymail, size 20000\n",
      "data/cnn_dailymail_20000_vectors.kv not found. Training word vectors on cnn_dailymail dataset...\n"
     ]
    },
    {
     "name": "stderr",
     "output_type": "stream",
     "text": [
      "Reusing dataset cnn_dailymail (/home/morrisreeves/.cache/huggingface/datasets/cnn_dailymail/3.0.0/3.0.0/3cb851bf7cf5826e45d49db2863f627cba583cbc32342df7349dfe6c38060234)\n"
     ]
    },
    {
     "data": {
      "application/vnd.jupyter.widget-view+json": {
       "model_id": "a999dfd0f4904483a7474e36e4342c89",
       "version_major": 2,
       "version_minor": 0
      },
      "text/plain": [
       "  0%|          | 0/3 [00:00<?, ?it/s]"
      ]
     },
     "metadata": {},
     "output_type": "display_data"
    },
    {
     "name": "stdout",
     "output_type": "stream",
     "text": [
      "Loss after epoch 0: 3287844.25\n",
      "Loss after epoch 1: 2466357.25\n",
      "Loss after epoch 2: 2216276.0\n",
      "Loss after epoch 3: 1946784.5\n",
      "Loss after epoch 4: 1873104.0\n",
      "Loss after epoch 5: 1799638.0\n",
      "Loss after epoch 6: 1763523.0\n",
      "Loss after epoch 7: 1741783.0\n",
      "Loss after epoch 8: 1514092.0\n",
      "Loss after epoch 9: 1547800.0\n",
      "Loss after epoch 10: 1452978.0\n",
      "Loss after epoch 11: 1508576.0\n",
      "Loss after epoch 12: 1485870.0\n",
      "Loss after epoch 13: 1437736.0\n",
      "Loss after epoch 14: 1452152.0\n",
      "Finished training. Saved embeddings to data/cnn_dailymail_20000_vectors.kv.\n",
      "Dataset cnn_dailymail, size 25000\n",
      "data/cnn_dailymail_25000_vectors.kv not found. Training word vectors on cnn_dailymail dataset...\n"
     ]
    },
    {
     "name": "stderr",
     "output_type": "stream",
     "text": [
      "Reusing dataset cnn_dailymail (/home/morrisreeves/.cache/huggingface/datasets/cnn_dailymail/3.0.0/3.0.0/3cb851bf7cf5826e45d49db2863f627cba583cbc32342df7349dfe6c38060234)\n"
     ]
    },
    {
     "data": {
      "application/vnd.jupyter.widget-view+json": {
       "model_id": "a91b2d432e15490e9a57951994ae7513",
       "version_major": 2,
       "version_minor": 0
      },
      "text/plain": [
       "  0%|          | 0/3 [00:00<?, ?it/s]"
      ]
     },
     "metadata": {},
     "output_type": "display_data"
    },
    {
     "name": "stdout",
     "output_type": "stream",
     "text": [
      "Loss after epoch 0: 3917512.25\n",
      "Loss after epoch 1: 2839244.25\n",
      "Loss after epoch 2: 2628709.5\n",
      "Loss after epoch 3: 2303108.0\n",
      "Loss after epoch 4: 2310062.0\n",
      "Loss after epoch 5: 2271543.0\n",
      "Loss after epoch 6: 1973289.0\n",
      "Loss after epoch 7: 1906570.0\n",
      "Loss after epoch 8: 1900844.0\n",
      "Loss after epoch 9: 1856252.0\n",
      "Loss after epoch 10: 1809808.0\n",
      "Loss after epoch 11: 1839500.0\n",
      "Loss after epoch 12: 1839530.0\n",
      "Loss after epoch 13: 1787200.0\n",
      "Loss after epoch 14: 1783856.0\n",
      "Finished training. Saved embeddings to data/cnn_dailymail_25000_vectors.kv.\n",
      "Dataset cnn_dailymail, size 30000\n",
      "data/cnn_dailymail_30000_vectors.kv not found. Training word vectors on cnn_dailymail dataset...\n"
     ]
    },
    {
     "name": "stderr",
     "output_type": "stream",
     "text": [
      "Reusing dataset cnn_dailymail (/home/morrisreeves/.cache/huggingface/datasets/cnn_dailymail/3.0.0/3.0.0/3cb851bf7cf5826e45d49db2863f627cba583cbc32342df7349dfe6c38060234)\n"
     ]
    },
    {
     "data": {
      "application/vnd.jupyter.widget-view+json": {
       "model_id": "a94efdb8bf3f46a5a166ad20a165dfa1",
       "version_major": 2,
       "version_minor": 0
      },
      "text/plain": [
       "  0%|          | 0/3 [00:00<?, ?it/s]"
      ]
     },
     "metadata": {},
     "output_type": "display_data"
    },
    {
     "name": "stdout",
     "output_type": "stream",
     "text": [
      "Loss after epoch 0: 4626698.0\n",
      "Loss after epoch 1: 3355898.0\n",
      "Loss after epoch 2: 2878135.0\n",
      "Loss after epoch 3: 2775897.0\n",
      "Loss after epoch 4: 2738693.0\n",
      "Loss after epoch 5: 2365449.0\n",
      "Loss after epoch 6: 2279854.0\n",
      "Loss after epoch 7: 2264458.0\n",
      "Loss after epoch 8: 2255464.0\n",
      "Loss after epoch 9: 2202260.0\n",
      "Loss after epoch 10: 2208028.0\n",
      "Loss after epoch 11: 2230342.0\n",
      "Loss after epoch 12: 1813160.0\n",
      "Loss after epoch 13: 1147260.0\n",
      "Loss after epoch 14: 1091504.0\n",
      "Finished training. Saved embeddings to data/cnn_dailymail_30000_vectors.kv.\n"
     ]
    }
   ],
   "source": [
    "# CREATE ALL EMBEDDINGS IF THEY DO NOT ALREADY EXIST\n",
    "datasets = [\"tweet_eval\", \"reddit\", \"cnn_dailymail\"]\n",
    "sizes = [10000, 15000, 20000, 25000, 30000]\n",
    "\n",
    "for d in datasets:\n",
    "    for s in sizes:\n",
    "        print(f\"Dataset {d}, size {s}\")\n",
    "        EMBEDDINGS_FILE = f'data/{d}_{s}_vectors.kv' # file directory of local embeddings file\n",
    "        if exists(EMBEDDINGS_FILE):\n",
    "            pass\n",
    "        else:\n",
    "            print(f\"{EMBEDDINGS_FILE} not found. Training word vectors on {d} dataset...\")\n",
    "            X_train = get_data(d, max_records = s)\n",
    "            # Create list of lists (of tokens)\n",
    "            # each element of the list is a document (e.g. tweet, news article, etc.)\n",
    "            full_tokenized = load_corpus(X_train, punc)\n",
    "            # Instantiate and train word2vec model\n",
    "            model = Word2Vec(sentences = full_tokenized, \n",
    "                         size = 100, \n",
    "                         window = WINDOW, \n",
    "                         min_count = MIN_COUNT, \n",
    "                         workers = 8,\n",
    "                         alpha = LR, # learning rate\n",
    "                         iter = EPOCHS, # number of epochs\n",
    "                         compute_loss=True, \n",
    "                         callbacks=[callback()])\n",
    "            word_vectors = model.wv\n",
    "            word_vectors.save(EMBEDDINGS_FILE)\n",
    "            print(f\"Finished training. Saved embeddings to {EMBEDDINGS_FILE}.\")"
   ]
  },
  {
   "cell_type": "markdown",
   "metadata": {},
   "source": [
    "# 3. Visualization of bias metrics\n",
    "\n",
    "Useful package to automatically compute bias metrics:\n",
    "* automatic computation of the above bias metrics: https://docs.responsibly.ai/notebooks/demo-word-embedding-bias.html\n",
    "\n",
    "The default pip install does not work.\n",
    "To make it work:\n",
    "* pip install gensim==3.7.1\n",
    "* git clone https://github.com/ResponsiblyAI/responsibly.git\n",
    "* cd responsibly\n",
    "* delete the \"python_requires\" and \"install_requires\" arguments of responsibly/setup.py\n",
    "* python setup.py install"
   ]
  },
  {
   "cell_type": "code",
   "execution_count": 37,
   "metadata": {},
   "outputs": [],
   "source": [
    "from responsibly.we import calc_all_weat\n",
    "import pandas as pd"
   ]
  },
  {
   "cell_type": "code",
   "execution_count": 38,
   "metadata": {},
   "outputs": [],
   "source": [
    "# LOAD EMBEDDINGS AND CALCULATE METRICS\n",
    "def get_results(query, datasets = datasets, sizes = sizes):\n",
    "    results = {}\n",
    "    for d in datasets:\n",
    "        results[d] = ['']*len(sizes)\n",
    "        for _i, s in enumerate(sizes):\n",
    "            print(f\"{d}, {s}\")\n",
    "            EMBEDDINGS_FILE = f'data/{d}_{s}_vectors.kv' # file directory of local embeddings file\n",
    "            word_vectors = KeyedVectors.load(EMBEDDINGS_FILE)\n",
    "            print(f\"Loaded {EMBEDDINGS_FILE}.\")\n",
    "            # Sense check the trained word vectors...\n",
    "            for w in ['woman', 'fire']:\n",
    "                print(f\"Most similar words to {w}:\")\n",
    "                display(word_vectors.most_similar(positive=[w], topn=5))\n",
    "            try:\n",
    "                result_df = calc_all_weat(word_vectors, filter_by='model', with_original_finding=False,\n",
    "                                          with_pvalue=True, pvalue_kwargs={'method': 'approximate'})\n",
    "                \n",
    "                effect_size = result_df[result_df['Target words'] == query][['d']].values[0][0]\n",
    "                results[d][_i] = effect_size\n",
    "            except:\n",
    "                print('Failed')\n",
    "    output = pd.DataFrame.from_dict(results).T\n",
    "    output.columns = sizes\n",
    "    return output"
   ]
  },
  {
   "cell_type": "code",
   "execution_count": 39,
   "metadata": {},
   "outputs": [
    {
     "name": "stdout",
     "output_type": "stream",
     "text": [
      "tweet_eval, 10000\n",
      "Loaded data/tweet_eval_10000_vectors.kv.\n",
      "Most similar words to woman:\n"
     ]
    },
    {
     "data": {
      "text/plain": [
       "[('being', 0.9996429681777954),\n",
       " ('n', 0.999608039855957),\n",
       " ('part', 0.9995110034942627),\n",
       " ('barca', 0.9994152784347534),\n",
       " ('election', 0.9994141459465027)]"
      ]
     },
     "metadata": {},
     "output_type": "display_data"
    },
    {
     "name": "stdout",
     "output_type": "stream",
     "text": [
      "Most similar words to fire:\n"
     ]
    },
    {
     "data": {
      "text/plain": [
       "[('almost', 0.9997133016586304),\n",
       " ('williams', 0.9996799230575562),\n",
       " ('film', 0.9996669888496399),\n",
       " ('chelsea', 0.9996664524078369),\n",
       " ('halloween', 0.9996615648269653)]"
      ]
     },
     "metadata": {},
     "output_type": "display_data"
    },
    {
     "name": "stdout",
     "output_type": "stream",
     "text": [
      "Failed\n",
      "tweet_eval, 15000\n",
      "Loaded data/tweet_eval_15000_vectors.kv.\n",
      "Most similar words to woman:\n"
     ]
    },
    {
     "name": "stderr",
     "output_type": "stream",
     "text": [
      "/home/morrisreeves/anaconda3/lib/python3.8/site-packages/responsibly-0.1.3-py3.8.egg/responsibly/we/weat.py:367: UserWarning: Given weat_data was filterd by model.\n"
     ]
    },
    {
     "data": {
      "text/plain": [
       "[('law', 0.9990522265434265),\n",
       " ('nokia', 0.9987666606903076),\n",
       " ('english', 0.9987127184867859),\n",
       " ('version', 0.9986815452575684),\n",
       " ('upon', 0.9985803961753845)]"
      ]
     },
     "metadata": {},
     "output_type": "display_data"
    },
    {
     "name": "stdout",
     "output_type": "stream",
     "text": [
      "Most similar words to fire:\n"
     ]
    },
    {
     "data": {
      "text/plain": [
       "[('sec', 0.9991708397865295),\n",
       " ('baseball', 0.9989045262336731),\n",
       " ('60', 0.9988649487495422),\n",
       " ('daughter', 0.9988501071929932),\n",
       " ('android', 0.9988458156585693)]"
      ]
     },
     "metadata": {},
     "output_type": "display_data"
    },
    {
     "name": "stdout",
     "output_type": "stream",
     "text": [
      "Failed\n",
      "tweet_eval, 20000\n"
     ]
    },
    {
     "name": "stderr",
     "output_type": "stream",
     "text": [
      "/home/morrisreeves/anaconda3/lib/python3.8/site-packages/responsibly-0.1.3-py3.8.egg/responsibly/we/weat.py:367: UserWarning: Given weat_data was filterd by model.\n"
     ]
    },
    {
     "name": "stdout",
     "output_type": "stream",
     "text": [
      "Loaded data/tweet_eval_20000_vectors.kv.\n",
      "Most similar words to woman:\n"
     ]
    },
    {
     "data": {
      "text/plain": [
       "[('renewed', 0.9968104362487793),\n",
       " ('kid', 0.9940447807312012),\n",
       " ('english', 0.9938790798187256),\n",
       " ('goat', 0.9933728575706482),\n",
       " ('iu2019ve', 0.992448627948761)]"
      ]
     },
     "metadata": {},
     "output_type": "display_data"
    },
    {
     "name": "stdout",
     "output_type": "stream",
     "text": [
      "Most similar words to fire:\n"
     ]
    },
    {
     "data": {
      "text/plain": [
       "[('review', 0.9977714419364929),\n",
       " ('press', 0.9977639317512512),\n",
       " ('japan', 0.9976924061775208),\n",
       " ('independent', 0.9975099563598633),\n",
       " ('exclusive', 0.9974478483200073)]"
      ]
     },
     "metadata": {},
     "output_type": "display_data"
    },
    {
     "name": "stderr",
     "output_type": "stream",
     "text": [
      "/home/morrisreeves/anaconda3/lib/python3.8/site-packages/responsibly-0.1.3-py3.8.egg/responsibly/we/weat.py:367: UserWarning: Given weat_data was filterd by model.\n"
     ]
    },
    {
     "name": "stdout",
     "output_type": "stream",
     "text": [
      "tweet_eval, 25000\n",
      "Loaded data/tweet_eval_25000_vectors.kv.\n",
      "Most similar words to woman:\n"
     ]
    },
    {
     "data": {
      "text/plain": [
       "[('character', 0.9880375266075134),\n",
       " ('joke', 0.9864675998687744),\n",
       " ('lyrics', 0.9858841896057129),\n",
       " ('renewed', 0.985424280166626),\n",
       " ('clearly', 0.9830710887908936)]"
      ]
     },
     "metadata": {},
     "output_type": "display_data"
    },
    {
     "name": "stdout",
     "output_type": "stream",
     "text": [
      "Most similar words to fire:\n"
     ]
    },
    {
     "data": {
      "text/plain": [
       "[('led', 0.9962218999862671),\n",
       " ('web', 0.9955031871795654),\n",
       " ('frame', 0.9949183464050293),\n",
       " ('33', 0.9949009418487549),\n",
       " ('starring', 0.9945729970932007)]"
      ]
     },
     "metadata": {},
     "output_type": "display_data"
    },
    {
     "name": "stderr",
     "output_type": "stream",
     "text": [
      "/home/morrisreeves/anaconda3/lib/python3.8/site-packages/responsibly-0.1.3-py3.8.egg/responsibly/we/weat.py:367: UserWarning: Given weat_data was filterd by model.\n"
     ]
    },
    {
     "name": "stdout",
     "output_type": "stream",
     "text": [
      "tweet_eval, 30000\n",
      "Loaded data/tweet_eval_30000_vectors.kv.\n",
      "Most similar words to woman:\n"
     ]
    },
    {
     "data": {
      "text/plain": [
       "[('character', 0.9769243001937866),\n",
       " ('awful', 0.9665274024009705),\n",
       " ('kesha', 0.9612746834754944),\n",
       " ('written', 0.9606611728668213),\n",
       " ('word', 0.9589853882789612)]"
      ]
     },
     "metadata": {},
     "output_type": "display_data"
    },
    {
     "name": "stdout",
     "output_type": "stream",
     "text": [
      "Most similar words to fire:\n"
     ]
    },
    {
     "data": {
      "text/plain": [
       "[('outing', 0.9889519810676575),\n",
       " ('mtv', 0.9875917434692383),\n",
       " ('les', 0.9866175651550293),\n",
       " ('pavol', 0.986561119556427),\n",
       " ('assault', 0.9861032366752625)]"
      ]
     },
     "metadata": {},
     "output_type": "display_data"
    },
    {
     "name": "stderr",
     "output_type": "stream",
     "text": [
      "/home/morrisreeves/anaconda3/lib/python3.8/site-packages/responsibly-0.1.3-py3.8.egg/responsibly/we/weat.py:367: UserWarning: Given weat_data was filterd by model.\n"
     ]
    },
    {
     "name": "stdout",
     "output_type": "stream",
     "text": [
      "reddit, 10000\n",
      "Loaded data/reddit_10000_vectors.kv.\n",
      "Most similar words to woman:\n"
     ]
    },
    {
     "data": {
      "text/plain": [
       "[('girl', 0.886238694190979),\n",
       " ('guy', 0.8134366273880005),\n",
       " ('man', 0.7857657670974731),\n",
       " ('kid', 0.780749499797821),\n",
       " ('lady', 0.7801080346107483)]"
      ]
     },
     "metadata": {},
     "output_type": "display_data"
    },
    {
     "name": "stdout",
     "output_type": "stream",
     "text": [
      "Most similar words to fire:\n"
     ]
    },
    {
     "data": {
      "text/plain": [
       "[('box', 0.7959644198417664),\n",
       " ('crash', 0.781371533870697),\n",
       " ('highway', 0.7737804651260376),\n",
       " ('ball', 0.7687705755233765),\n",
       " ('roof', 0.7648351192474365)]"
      ]
     },
     "metadata": {},
     "output_type": "display_data"
    },
    {
     "name": "stderr",
     "output_type": "stream",
     "text": [
      "/home/morrisreeves/anaconda3/lib/python3.8/site-packages/responsibly-0.1.3-py3.8.egg/responsibly/we/weat.py:367: UserWarning: Given weat_data was filterd by model.\n"
     ]
    },
    {
     "name": "stdout",
     "output_type": "stream",
     "text": [
      "reddit, 15000\n",
      "Loaded data/reddit_15000_vectors.kv.\n",
      "Most similar words to woman:\n"
     ]
    },
    {
     "data": {
      "text/plain": [
       "[('girl', 0.8660507202148438),\n",
       " ('lady', 0.7810494899749756),\n",
       " ('man', 0.7584103941917419),\n",
       " ('kid', 0.7458174228668213),\n",
       " ('guy', 0.7353513240814209)]"
      ]
     },
     "metadata": {},
     "output_type": "display_data"
    },
    {
     "name": "stdout",
     "output_type": "stream",
     "text": [
      "Most similar words to fire:\n"
     ]
    },
    {
     "data": {
      "text/plain": [
       "[('ball', 0.7621542811393738),\n",
       " ('box', 0.7593377828598022),\n",
       " ('tower', 0.7506873607635498),\n",
       " ('air', 0.7365602850914001),\n",
       " ('tank', 0.7351988554000854)]"
      ]
     },
     "metadata": {},
     "output_type": "display_data"
    },
    {
     "name": "stderr",
     "output_type": "stream",
     "text": [
      "/home/morrisreeves/anaconda3/lib/python3.8/site-packages/responsibly-0.1.3-py3.8.egg/responsibly/we/weat.py:367: UserWarning: Given weat_data was filterd by model.\n"
     ]
    },
    {
     "name": "stdout",
     "output_type": "stream",
     "text": [
      "reddit, 20000\n",
      "Loaded data/reddit_20000_vectors.kv.\n",
      "Most similar words to woman:\n"
     ]
    },
    {
     "data": {
      "text/plain": [
       "[('girl', 0.8464751243591309),\n",
       " ('man', 0.7487219572067261),\n",
       " ('person', 0.74168860912323),\n",
       " ('lady', 0.7357566952705383),\n",
       " ('kid', 0.7023261785507202)]"
      ]
     },
     "metadata": {},
     "output_type": "display_data"
    },
    {
     "name": "stdout",
     "output_type": "stream",
     "text": [
      "Most similar words to fire:\n"
     ]
    },
    {
     "data": {
      "text/plain": [
       "[('stone', 0.7718055844306946),\n",
       " ('ball', 0.7657947540283203),\n",
       " ('tower', 0.7574912309646606),\n",
       " ('sight', 0.7492151260375977),\n",
       " ('ground', 0.7470245957374573)]"
      ]
     },
     "metadata": {},
     "output_type": "display_data"
    },
    {
     "name": "stdout",
     "output_type": "stream",
     "text": [
      "reddit, 25000\n"
     ]
    },
    {
     "name": "stderr",
     "output_type": "stream",
     "text": [
      "/home/morrisreeves/anaconda3/lib/python3.8/site-packages/responsibly-0.1.3-py3.8.egg/responsibly/we/weat.py:367: UserWarning: Given weat_data was filterd by model.\n"
     ]
    },
    {
     "name": "stdout",
     "output_type": "stream",
     "text": [
      "Loaded data/reddit_25000_vectors.kv.\n",
      "Most similar words to woman:\n"
     ]
    },
    {
     "data": {
      "text/plain": [
       "[('girl', 0.8207494020462036),\n",
       " ('man', 0.7707008719444275),\n",
       " ('person', 0.742394745349884),\n",
       " ('lady', 0.7422552704811096),\n",
       " ('child', 0.7031288146972656)]"
      ]
     },
     "metadata": {},
     "output_type": "display_data"
    },
    {
     "name": "stdout",
     "output_type": "stream",
     "text": [
      "Most similar words to fire:\n"
     ]
    },
    {
     "data": {
      "text/plain": [
       "[('ball', 0.732660174369812),\n",
       " ('air', 0.7287982106208801),\n",
       " ('rope', 0.7201451063156128),\n",
       " ('concrete', 0.7176381945610046),\n",
       " ('flame', 0.716711163520813)]"
      ]
     },
     "metadata": {},
     "output_type": "display_data"
    },
    {
     "name": "stdout",
     "output_type": "stream",
     "text": [
      "reddit, 30000\n"
     ]
    },
    {
     "name": "stderr",
     "output_type": "stream",
     "text": [
      "/home/morrisreeves/anaconda3/lib/python3.8/site-packages/responsibly-0.1.3-py3.8.egg/responsibly/we/weat.py:367: UserWarning: Given weat_data was filterd by model.\n"
     ]
    },
    {
     "name": "stdout",
     "output_type": "stream",
     "text": [
      "Loaded data/reddit_30000_vectors.kv.\n",
      "Most similar words to woman:\n"
     ]
    },
    {
     "data": {
      "text/plain": [
       "[('girl', 0.8093750476837158),\n",
       " ('man', 0.7671211957931519),\n",
       " ('person', 0.7404379844665527),\n",
       " ('lady', 0.6842595338821411),\n",
       " ('guy', 0.6791442632675171)]"
      ]
     },
     "metadata": {},
     "output_type": "display_data"
    },
    {
     "name": "stdout",
     "output_type": "stream",
     "text": [
      "Most similar words to fire:\n"
     ]
    },
    {
     "data": {
      "text/plain": [
       "[('stone', 0.7349772453308105),\n",
       " ('lightning', 0.7162034511566162),\n",
       " ('brake', 0.7084733843803406),\n",
       " ('concrete', 0.7068042755126953),\n",
       " ('rope', 0.7014063596725464)]"
      ]
     },
     "metadata": {},
     "output_type": "display_data"
    },
    {
     "name": "stdout",
     "output_type": "stream",
     "text": [
      "cnn_dailymail, 10000\n"
     ]
    },
    {
     "name": "stderr",
     "output_type": "stream",
     "text": [
      "/home/morrisreeves/anaconda3/lib/python3.8/site-packages/responsibly-0.1.3-py3.8.egg/responsibly/we/weat.py:367: UserWarning: Given weat_data was filterd by model.\n"
     ]
    },
    {
     "name": "stdout",
     "output_type": "stream",
     "text": [
      "Loaded data/cnn_dailymail_10000_vectors.kv.\n",
      "Most similar words to woman:\n"
     ]
    },
    {
     "data": {
      "text/plain": [
       "[('girl', 0.8731703162193298),\n",
       " ('boy', 0.8047071099281311),\n",
       " ('man', 0.7922813892364502),\n",
       " ('child', 0.7822209000587463),\n",
       " ('person', 0.7362974882125854)]"
      ]
     },
     "metadata": {},
     "output_type": "display_data"
    },
    {
     "name": "stdout",
     "output_type": "stream",
     "text": [
      "Most similar words to fire:\n"
     ]
    },
    {
     "data": {
      "text/plain": [
       "[('blaze', 0.6582329869270325),\n",
       " ('vehicle', 0.6435298919677734),\n",
       " ('helicopter', 0.6374375224113464),\n",
       " ('police', 0.6366877555847168),\n",
       " ('truck', 0.6257896423339844)]"
      ]
     },
     "metadata": {},
     "output_type": "display_data"
    },
    {
     "name": "stdout",
     "output_type": "stream",
     "text": [
      "cnn_dailymail, 15000\n"
     ]
    },
    {
     "name": "stderr",
     "output_type": "stream",
     "text": [
      "/home/morrisreeves/anaconda3/lib/python3.8/site-packages/responsibly-0.1.3-py3.8.egg/responsibly/we/weat.py:367: UserWarning: Given weat_data was filterd by model.\n"
     ]
    },
    {
     "name": "stdout",
     "output_type": "stream",
     "text": [
      "Loaded data/cnn_dailymail_15000_vectors.kv.\n",
      "Most similar words to woman:\n"
     ]
    },
    {
     "data": {
      "text/plain": [
       "[('girl', 0.8426003456115723),\n",
       " ('man', 0.8089807033538818),\n",
       " ('boy', 0.7746313810348511),\n",
       " ('teenager', 0.7514156103134155),\n",
       " ('child', 0.7447121739387512)]"
      ]
     },
     "metadata": {},
     "output_type": "display_data"
    },
    {
     "name": "stdout",
     "output_type": "stream",
     "text": [
      "Most similar words to fire:\n"
     ]
    },
    {
     "data": {
      "text/plain": [
       "[('blaze', 0.6303491592407227),\n",
       " ('blast', 0.6144654750823975),\n",
       " ('police', 0.6027402877807617),\n",
       " ('vehicle', 0.6007462739944458),\n",
       " ('gunfire', 0.5718086361885071)]"
      ]
     },
     "metadata": {},
     "output_type": "display_data"
    },
    {
     "name": "stdout",
     "output_type": "stream",
     "text": [
      "cnn_dailymail, 20000\n"
     ]
    },
    {
     "name": "stderr",
     "output_type": "stream",
     "text": [
      "/home/morrisreeves/anaconda3/lib/python3.8/site-packages/responsibly-0.1.3-py3.8.egg/responsibly/we/weat.py:367: UserWarning: Given weat_data was filterd by model.\n"
     ]
    },
    {
     "name": "stdout",
     "output_type": "stream",
     "text": [
      "Loaded data/cnn_dailymail_20000_vectors.kv.\n",
      "Most similar words to woman:\n"
     ]
    },
    {
     "data": {
      "text/plain": [
       "[('girl', 0.8242049217224121),\n",
       " ('man', 0.7844509482383728),\n",
       " ('teenager', 0.7661481499671936),\n",
       " ('boy', 0.7591323256492615),\n",
       " ('child', 0.7361804246902466)]"
      ]
     },
     "metadata": {},
     "output_type": "display_data"
    },
    {
     "name": "stdout",
     "output_type": "stream",
     "text": [
      "Most similar words to fire:\n"
     ]
    },
    {
     "data": {
      "text/plain": [
       "[('blaze', 0.682070791721344),\n",
       " ('police', 0.603380024433136),\n",
       " ('blast', 0.5864295959472656),\n",
       " ('flames', 0.5863285064697266),\n",
       " ('vehicle', 0.5820160508155823)]"
      ]
     },
     "metadata": {},
     "output_type": "display_data"
    },
    {
     "name": "stdout",
     "output_type": "stream",
     "text": [
      "cnn_dailymail, 25000\n"
     ]
    },
    {
     "name": "stderr",
     "output_type": "stream",
     "text": [
      "/home/morrisreeves/anaconda3/lib/python3.8/site-packages/responsibly-0.1.3-py3.8.egg/responsibly/we/weat.py:367: UserWarning: Given weat_data was filterd by model.\n"
     ]
    },
    {
     "name": "stdout",
     "output_type": "stream",
     "text": [
      "Loaded data/cnn_dailymail_25000_vectors.kv.\n",
      "Most similar words to woman:\n"
     ]
    },
    {
     "data": {
      "text/plain": [
       "[('girl', 0.819382905960083),\n",
       " ('man', 0.8126934766769409),\n",
       " ('teenager', 0.7594698667526245),\n",
       " ('boy', 0.7497338056564331),\n",
       " ('person', 0.7251472473144531)]"
      ]
     },
     "metadata": {},
     "output_type": "display_data"
    },
    {
     "name": "stdout",
     "output_type": "stream",
     "text": [
      "Most similar words to fire:\n"
     ]
    },
    {
     "data": {
      "text/plain": [
       "[('blaze', 0.6427915096282959),\n",
       " ('police', 0.5995753407478333),\n",
       " ('blast', 0.5879694819450378),\n",
       " ('flames', 0.5778841376304626),\n",
       " ('gunfire', 0.5587124228477478)]"
      ]
     },
     "metadata": {},
     "output_type": "display_data"
    },
    {
     "name": "stdout",
     "output_type": "stream",
     "text": [
      "cnn_dailymail, 30000\n"
     ]
    },
    {
     "name": "stderr",
     "output_type": "stream",
     "text": [
      "/home/morrisreeves/anaconda3/lib/python3.8/site-packages/responsibly-0.1.3-py3.8.egg/responsibly/we/weat.py:367: UserWarning: Given weat_data was filterd by model.\n"
     ]
    },
    {
     "name": "stdout",
     "output_type": "stream",
     "text": [
      "Loaded data/cnn_dailymail_30000_vectors.kv.\n",
      "Most similar words to woman:\n"
     ]
    },
    {
     "data": {
      "text/plain": [
       "[('man', 0.8254693746566772),\n",
       " ('girl', 0.811126708984375),\n",
       " ('teenager', 0.7605817317962646),\n",
       " ('boy', 0.7529831528663635),\n",
       " ('person', 0.7279037237167358)]"
      ]
     },
     "metadata": {},
     "output_type": "display_data"
    },
    {
     "name": "stdout",
     "output_type": "stream",
     "text": [
      "Most similar words to fire:\n"
     ]
    },
    {
     "data": {
      "text/plain": [
       "[('blaze', 0.6852400302886963),\n",
       " ('flames', 0.5928053855895996),\n",
       " ('blast', 0.5896222591400146),\n",
       " ('fires', 0.5799142718315125),\n",
       " ('police', 0.5627484321594238)]"
      ]
     },
     "metadata": {},
     "output_type": "display_data"
    },
    {
     "name": "stdout",
     "output_type": "stream",
     "text": [
      "tweet_eval, 10000\n",
      "Loaded data/tweet_eval_10000_vectors.kv.\n",
      "Most similar words to woman:\n"
     ]
    },
    {
     "name": "stderr",
     "output_type": "stream",
     "text": [
      "/home/morrisreeves/anaconda3/lib/python3.8/site-packages/responsibly-0.1.3-py3.8.egg/responsibly/we/weat.py:367: UserWarning: Given weat_data was filterd by model.\n"
     ]
    },
    {
     "data": {
      "text/plain": [
       "[('being', 0.9996429681777954),\n",
       " ('n', 0.999608039855957),\n",
       " ('part', 0.9995110034942627),\n",
       " ('barca', 0.9994152784347534),\n",
       " ('election', 0.9994141459465027)]"
      ]
     },
     "metadata": {},
     "output_type": "display_data"
    },
    {
     "name": "stdout",
     "output_type": "stream",
     "text": [
      "Most similar words to fire:\n"
     ]
    },
    {
     "data": {
      "text/plain": [
       "[('almost', 0.9997133016586304),\n",
       " ('williams', 0.9996799230575562),\n",
       " ('film', 0.9996669888496399),\n",
       " ('chelsea', 0.9996664524078369),\n",
       " ('halloween', 0.9996615648269653)]"
      ]
     },
     "metadata": {},
     "output_type": "display_data"
    },
    {
     "name": "stderr",
     "output_type": "stream",
     "text": [
      "/home/morrisreeves/anaconda3/lib/python3.8/site-packages/responsibly-0.1.3-py3.8.egg/responsibly/we/weat.py:367: UserWarning: Given weat_data was filterd by model.\n"
     ]
    },
    {
     "name": "stdout",
     "output_type": "stream",
     "text": [
      "Failed\n",
      "tweet_eval, 15000\n",
      "Loaded data/tweet_eval_15000_vectors.kv.\n",
      "Most similar words to woman:\n"
     ]
    },
    {
     "data": {
      "text/plain": [
       "[('law', 0.9990522265434265),\n",
       " ('nokia', 0.9987666606903076),\n",
       " ('english', 0.9987127184867859),\n",
       " ('version', 0.9986815452575684),\n",
       " ('upon', 0.9985803961753845)]"
      ]
     },
     "metadata": {},
     "output_type": "display_data"
    },
    {
     "name": "stdout",
     "output_type": "stream",
     "text": [
      "Most similar words to fire:\n"
     ]
    },
    {
     "data": {
      "text/plain": [
       "[('sec', 0.9991708397865295),\n",
       " ('baseball', 0.9989045262336731),\n",
       " ('60', 0.9988649487495422),\n",
       " ('daughter', 0.9988501071929932),\n",
       " ('android', 0.9988458156585693)]"
      ]
     },
     "metadata": {},
     "output_type": "display_data"
    },
    {
     "name": "stdout",
     "output_type": "stream",
     "text": [
      "Failed\n",
      "tweet_eval, 20000\n"
     ]
    },
    {
     "name": "stderr",
     "output_type": "stream",
     "text": [
      "/home/morrisreeves/anaconda3/lib/python3.8/site-packages/responsibly-0.1.3-py3.8.egg/responsibly/we/weat.py:367: UserWarning: Given weat_data was filterd by model.\n"
     ]
    },
    {
     "name": "stdout",
     "output_type": "stream",
     "text": [
      "Loaded data/tweet_eval_20000_vectors.kv.\n",
      "Most similar words to woman:\n"
     ]
    },
    {
     "data": {
      "text/plain": [
       "[('renewed', 0.9968104362487793),\n",
       " ('kid', 0.9940447807312012),\n",
       " ('english', 0.9938790798187256),\n",
       " ('goat', 0.9933728575706482),\n",
       " ('iu2019ve', 0.992448627948761)]"
      ]
     },
     "metadata": {},
     "output_type": "display_data"
    },
    {
     "name": "stdout",
     "output_type": "stream",
     "text": [
      "Most similar words to fire:\n"
     ]
    },
    {
     "data": {
      "text/plain": [
       "[('review', 0.9977714419364929),\n",
       " ('press', 0.9977639317512512),\n",
       " ('japan', 0.9976924061775208),\n",
       " ('independent', 0.9975099563598633),\n",
       " ('exclusive', 0.9974478483200073)]"
      ]
     },
     "metadata": {},
     "output_type": "display_data"
    },
    {
     "name": "stdout",
     "output_type": "stream",
     "text": [
      "tweet_eval, 25000\n"
     ]
    },
    {
     "name": "stderr",
     "output_type": "stream",
     "text": [
      "/home/morrisreeves/anaconda3/lib/python3.8/site-packages/responsibly-0.1.3-py3.8.egg/responsibly/we/weat.py:367: UserWarning: Given weat_data was filterd by model.\n"
     ]
    },
    {
     "name": "stdout",
     "output_type": "stream",
     "text": [
      "Loaded data/tweet_eval_25000_vectors.kv.\n",
      "Most similar words to woman:\n"
     ]
    },
    {
     "data": {
      "text/plain": [
       "[('character', 0.9880375266075134),\n",
       " ('joke', 0.9864675998687744),\n",
       " ('lyrics', 0.9858841896057129),\n",
       " ('renewed', 0.985424280166626),\n",
       " ('clearly', 0.9830710887908936)]"
      ]
     },
     "metadata": {},
     "output_type": "display_data"
    },
    {
     "name": "stdout",
     "output_type": "stream",
     "text": [
      "Most similar words to fire:\n"
     ]
    },
    {
     "data": {
      "text/plain": [
       "[('led', 0.9962218999862671),\n",
       " ('web', 0.9955031871795654),\n",
       " ('frame', 0.9949183464050293),\n",
       " ('33', 0.9949009418487549),\n",
       " ('starring', 0.9945729970932007)]"
      ]
     },
     "metadata": {},
     "output_type": "display_data"
    },
    {
     "name": "stderr",
     "output_type": "stream",
     "text": [
      "/home/morrisreeves/anaconda3/lib/python3.8/site-packages/responsibly-0.1.3-py3.8.egg/responsibly/we/weat.py:367: UserWarning: Given weat_data was filterd by model.\n"
     ]
    },
    {
     "name": "stdout",
     "output_type": "stream",
     "text": [
      "tweet_eval, 30000\n",
      "Loaded data/tweet_eval_30000_vectors.kv.\n",
      "Most similar words to woman:\n"
     ]
    },
    {
     "data": {
      "text/plain": [
       "[('character', 0.9769243001937866),\n",
       " ('awful', 0.9665274024009705),\n",
       " ('kesha', 0.9612746834754944),\n",
       " ('written', 0.9606611728668213),\n",
       " ('word', 0.9589853882789612)]"
      ]
     },
     "metadata": {},
     "output_type": "display_data"
    },
    {
     "name": "stdout",
     "output_type": "stream",
     "text": [
      "Most similar words to fire:\n"
     ]
    },
    {
     "data": {
      "text/plain": [
       "[('outing', 0.9889519810676575),\n",
       " ('mtv', 0.9875917434692383),\n",
       " ('les', 0.9866175651550293),\n",
       " ('pavol', 0.986561119556427),\n",
       " ('assault', 0.9861032366752625)]"
      ]
     },
     "metadata": {},
     "output_type": "display_data"
    },
    {
     "name": "stderr",
     "output_type": "stream",
     "text": [
      "/home/morrisreeves/anaconda3/lib/python3.8/site-packages/responsibly-0.1.3-py3.8.egg/responsibly/we/weat.py:367: UserWarning: Given weat_data was filterd by model.\n"
     ]
    },
    {
     "name": "stdout",
     "output_type": "stream",
     "text": [
      "reddit, 10000\n",
      "Loaded data/reddit_10000_vectors.kv.\n",
      "Most similar words to woman:\n"
     ]
    },
    {
     "data": {
      "text/plain": [
       "[('girl', 0.886238694190979),\n",
       " ('guy', 0.8134366273880005),\n",
       " ('man', 0.7857657670974731),\n",
       " ('kid', 0.780749499797821),\n",
       " ('lady', 0.7801080346107483)]"
      ]
     },
     "metadata": {},
     "output_type": "display_data"
    },
    {
     "name": "stdout",
     "output_type": "stream",
     "text": [
      "Most similar words to fire:\n"
     ]
    },
    {
     "data": {
      "text/plain": [
       "[('box', 0.7959644198417664),\n",
       " ('crash', 0.781371533870697),\n",
       " ('highway', 0.7737804651260376),\n",
       " ('ball', 0.7687705755233765),\n",
       " ('roof', 0.7648351192474365)]"
      ]
     },
     "metadata": {},
     "output_type": "display_data"
    },
    {
     "name": "stdout",
     "output_type": "stream",
     "text": [
      "reddit, 15000\n",
      "Loaded data/reddit_15000_vectors.kv.\n",
      "Most similar words to woman:\n"
     ]
    },
    {
     "name": "stderr",
     "output_type": "stream",
     "text": [
      "/home/morrisreeves/anaconda3/lib/python3.8/site-packages/responsibly-0.1.3-py3.8.egg/responsibly/we/weat.py:367: UserWarning: Given weat_data was filterd by model.\n"
     ]
    },
    {
     "data": {
      "text/plain": [
       "[('girl', 0.8660507202148438),\n",
       " ('lady', 0.7810494899749756),\n",
       " ('man', 0.7584103941917419),\n",
       " ('kid', 0.7458174228668213),\n",
       " ('guy', 0.7353513240814209)]"
      ]
     },
     "metadata": {},
     "output_type": "display_data"
    },
    {
     "name": "stdout",
     "output_type": "stream",
     "text": [
      "Most similar words to fire:\n"
     ]
    },
    {
     "data": {
      "text/plain": [
       "[('ball', 0.7621542811393738),\n",
       " ('box', 0.7593377828598022),\n",
       " ('tower', 0.7506873607635498),\n",
       " ('air', 0.7365602850914001),\n",
       " ('tank', 0.7351988554000854)]"
      ]
     },
     "metadata": {},
     "output_type": "display_data"
    },
    {
     "name": "stderr",
     "output_type": "stream",
     "text": [
      "/home/morrisreeves/anaconda3/lib/python3.8/site-packages/responsibly-0.1.3-py3.8.egg/responsibly/we/weat.py:367: UserWarning: Given weat_data was filterd by model.\n"
     ]
    },
    {
     "name": "stdout",
     "output_type": "stream",
     "text": [
      "reddit, 20000\n",
      "Loaded data/reddit_20000_vectors.kv.\n",
      "Most similar words to woman:\n"
     ]
    },
    {
     "data": {
      "text/plain": [
       "[('girl', 0.8464751243591309),\n",
       " ('man', 0.7487219572067261),\n",
       " ('person', 0.74168860912323),\n",
       " ('lady', 0.7357566952705383),\n",
       " ('kid', 0.7023261785507202)]"
      ]
     },
     "metadata": {},
     "output_type": "display_data"
    },
    {
     "name": "stdout",
     "output_type": "stream",
     "text": [
      "Most similar words to fire:\n"
     ]
    },
    {
     "data": {
      "text/plain": [
       "[('stone', 0.7718055844306946),\n",
       " ('ball', 0.7657947540283203),\n",
       " ('tower', 0.7574912309646606),\n",
       " ('sight', 0.7492151260375977),\n",
       " ('ground', 0.7470245957374573)]"
      ]
     },
     "metadata": {},
     "output_type": "display_data"
    },
    {
     "name": "stdout",
     "output_type": "stream",
     "text": [
      "reddit, 25000\n"
     ]
    },
    {
     "name": "stderr",
     "output_type": "stream",
     "text": [
      "/home/morrisreeves/anaconda3/lib/python3.8/site-packages/responsibly-0.1.3-py3.8.egg/responsibly/we/weat.py:367: UserWarning: Given weat_data was filterd by model.\n"
     ]
    },
    {
     "name": "stdout",
     "output_type": "stream",
     "text": [
      "Loaded data/reddit_25000_vectors.kv.\n",
      "Most similar words to woman:\n"
     ]
    },
    {
     "data": {
      "text/plain": [
       "[('girl', 0.8207494020462036),\n",
       " ('man', 0.7707008719444275),\n",
       " ('person', 0.742394745349884),\n",
       " ('lady', 0.7422552704811096),\n",
       " ('child', 0.7031288146972656)]"
      ]
     },
     "metadata": {},
     "output_type": "display_data"
    },
    {
     "name": "stdout",
     "output_type": "stream",
     "text": [
      "Most similar words to fire:\n"
     ]
    },
    {
     "data": {
      "text/plain": [
       "[('ball', 0.732660174369812),\n",
       " ('air', 0.7287982106208801),\n",
       " ('rope', 0.7201451063156128),\n",
       " ('concrete', 0.7176381945610046),\n",
       " ('flame', 0.716711163520813)]"
      ]
     },
     "metadata": {},
     "output_type": "display_data"
    },
    {
     "name": "stdout",
     "output_type": "stream",
     "text": [
      "reddit, 30000\n"
     ]
    },
    {
     "name": "stderr",
     "output_type": "stream",
     "text": [
      "/home/morrisreeves/anaconda3/lib/python3.8/site-packages/responsibly-0.1.3-py3.8.egg/responsibly/we/weat.py:367: UserWarning: Given weat_data was filterd by model.\n"
     ]
    },
    {
     "name": "stdout",
     "output_type": "stream",
     "text": [
      "Loaded data/reddit_30000_vectors.kv.\n",
      "Most similar words to woman:\n"
     ]
    },
    {
     "data": {
      "text/plain": [
       "[('girl', 0.8093750476837158),\n",
       " ('man', 0.7671211957931519),\n",
       " ('person', 0.7404379844665527),\n",
       " ('lady', 0.6842595338821411),\n",
       " ('guy', 0.6791442632675171)]"
      ]
     },
     "metadata": {},
     "output_type": "display_data"
    },
    {
     "name": "stdout",
     "output_type": "stream",
     "text": [
      "Most similar words to fire:\n"
     ]
    },
    {
     "data": {
      "text/plain": [
       "[('stone', 0.7349772453308105),\n",
       " ('lightning', 0.7162034511566162),\n",
       " ('brake', 0.7084733843803406),\n",
       " ('concrete', 0.7068042755126953),\n",
       " ('rope', 0.7014063596725464)]"
      ]
     },
     "metadata": {},
     "output_type": "display_data"
    },
    {
     "name": "stdout",
     "output_type": "stream",
     "text": [
      "cnn_dailymail, 10000\n"
     ]
    },
    {
     "name": "stderr",
     "output_type": "stream",
     "text": [
      "/home/morrisreeves/anaconda3/lib/python3.8/site-packages/responsibly-0.1.3-py3.8.egg/responsibly/we/weat.py:367: UserWarning: Given weat_data was filterd by model.\n"
     ]
    },
    {
     "name": "stdout",
     "output_type": "stream",
     "text": [
      "Loaded data/cnn_dailymail_10000_vectors.kv.\n",
      "Most similar words to woman:\n"
     ]
    },
    {
     "data": {
      "text/plain": [
       "[('girl', 0.8731703162193298),\n",
       " ('boy', 0.8047071099281311),\n",
       " ('man', 0.7922813892364502),\n",
       " ('child', 0.7822209000587463),\n",
       " ('person', 0.7362974882125854)]"
      ]
     },
     "metadata": {},
     "output_type": "display_data"
    },
    {
     "name": "stdout",
     "output_type": "stream",
     "text": [
      "Most similar words to fire:\n"
     ]
    },
    {
     "data": {
      "text/plain": [
       "[('blaze', 0.6582329869270325),\n",
       " ('vehicle', 0.6435298919677734),\n",
       " ('helicopter', 0.6374375224113464),\n",
       " ('police', 0.6366877555847168),\n",
       " ('truck', 0.6257896423339844)]"
      ]
     },
     "metadata": {},
     "output_type": "display_data"
    },
    {
     "name": "stdout",
     "output_type": "stream",
     "text": [
      "cnn_dailymail, 15000\n"
     ]
    },
    {
     "name": "stderr",
     "output_type": "stream",
     "text": [
      "/home/morrisreeves/anaconda3/lib/python3.8/site-packages/responsibly-0.1.3-py3.8.egg/responsibly/we/weat.py:367: UserWarning: Given weat_data was filterd by model.\n"
     ]
    },
    {
     "name": "stdout",
     "output_type": "stream",
     "text": [
      "Loaded data/cnn_dailymail_15000_vectors.kv.\n",
      "Most similar words to woman:\n"
     ]
    },
    {
     "data": {
      "text/plain": [
       "[('girl', 0.8426003456115723),\n",
       " ('man', 0.8089807033538818),\n",
       " ('boy', 0.7746313810348511),\n",
       " ('teenager', 0.7514156103134155),\n",
       " ('child', 0.7447121739387512)]"
      ]
     },
     "metadata": {},
     "output_type": "display_data"
    },
    {
     "name": "stdout",
     "output_type": "stream",
     "text": [
      "Most similar words to fire:\n"
     ]
    },
    {
     "data": {
      "text/plain": [
       "[('blaze', 0.6303491592407227),\n",
       " ('blast', 0.6144654750823975),\n",
       " ('police', 0.6027402877807617),\n",
       " ('vehicle', 0.6007462739944458),\n",
       " ('gunfire', 0.5718086361885071)]"
      ]
     },
     "metadata": {},
     "output_type": "display_data"
    },
    {
     "name": "stdout",
     "output_type": "stream",
     "text": [
      "cnn_dailymail, 20000\n"
     ]
    },
    {
     "name": "stderr",
     "output_type": "stream",
     "text": [
      "/home/morrisreeves/anaconda3/lib/python3.8/site-packages/responsibly-0.1.3-py3.8.egg/responsibly/we/weat.py:367: UserWarning: Given weat_data was filterd by model.\n"
     ]
    },
    {
     "name": "stdout",
     "output_type": "stream",
     "text": [
      "Loaded data/cnn_dailymail_20000_vectors.kv.\n",
      "Most similar words to woman:\n"
     ]
    },
    {
     "data": {
      "text/plain": [
       "[('girl', 0.8242049217224121),\n",
       " ('man', 0.7844509482383728),\n",
       " ('teenager', 0.7661481499671936),\n",
       " ('boy', 0.7591323256492615),\n",
       " ('child', 0.7361804246902466)]"
      ]
     },
     "metadata": {},
     "output_type": "display_data"
    },
    {
     "name": "stdout",
     "output_type": "stream",
     "text": [
      "Most similar words to fire:\n"
     ]
    },
    {
     "data": {
      "text/plain": [
       "[('blaze', 0.682070791721344),\n",
       " ('police', 0.603380024433136),\n",
       " ('blast', 0.5864295959472656),\n",
       " ('flames', 0.5863285064697266),\n",
       " ('vehicle', 0.5820160508155823)]"
      ]
     },
     "metadata": {},
     "output_type": "display_data"
    },
    {
     "name": "stdout",
     "output_type": "stream",
     "text": [
      "cnn_dailymail, 25000\n"
     ]
    },
    {
     "name": "stderr",
     "output_type": "stream",
     "text": [
      "/home/morrisreeves/anaconda3/lib/python3.8/site-packages/responsibly-0.1.3-py3.8.egg/responsibly/we/weat.py:367: UserWarning: Given weat_data was filterd by model.\n"
     ]
    },
    {
     "name": "stdout",
     "output_type": "stream",
     "text": [
      "Loaded data/cnn_dailymail_25000_vectors.kv.\n",
      "Most similar words to woman:\n"
     ]
    },
    {
     "data": {
      "text/plain": [
       "[('girl', 0.819382905960083),\n",
       " ('man', 0.8126934766769409),\n",
       " ('teenager', 0.7594698667526245),\n",
       " ('boy', 0.7497338056564331),\n",
       " ('person', 0.7251472473144531)]"
      ]
     },
     "metadata": {},
     "output_type": "display_data"
    },
    {
     "name": "stdout",
     "output_type": "stream",
     "text": [
      "Most similar words to fire:\n"
     ]
    },
    {
     "data": {
      "text/plain": [
       "[('blaze', 0.6427915096282959),\n",
       " ('police', 0.5995753407478333),\n",
       " ('blast', 0.5879694819450378),\n",
       " ('flames', 0.5778841376304626),\n",
       " ('gunfire', 0.5587124228477478)]"
      ]
     },
     "metadata": {},
     "output_type": "display_data"
    },
    {
     "name": "stdout",
     "output_type": "stream",
     "text": [
      "cnn_dailymail, 30000\n"
     ]
    },
    {
     "name": "stderr",
     "output_type": "stream",
     "text": [
      "/home/morrisreeves/anaconda3/lib/python3.8/site-packages/responsibly-0.1.3-py3.8.egg/responsibly/we/weat.py:367: UserWarning: Given weat_data was filterd by model.\n"
     ]
    },
    {
     "name": "stdout",
     "output_type": "stream",
     "text": [
      "Loaded data/cnn_dailymail_30000_vectors.kv.\n",
      "Most similar words to woman:\n"
     ]
    },
    {
     "data": {
      "text/plain": [
       "[('man', 0.8254693746566772),\n",
       " ('girl', 0.811126708984375),\n",
       " ('teenager', 0.7605817317962646),\n",
       " ('boy', 0.7529831528663635),\n",
       " ('person', 0.7279037237167358)]"
      ]
     },
     "metadata": {},
     "output_type": "display_data"
    },
    {
     "name": "stdout",
     "output_type": "stream",
     "text": [
      "Most similar words to fire:\n"
     ]
    },
    {
     "data": {
      "text/plain": [
       "[('blaze', 0.6852400302886963),\n",
       " ('flames', 0.5928053855895996),\n",
       " ('blast', 0.5896222591400146),\n",
       " ('fires', 0.5799142718315125),\n",
       " ('police', 0.5627484321594238)]"
      ]
     },
     "metadata": {},
     "output_type": "display_data"
    },
    {
     "name": "stderr",
     "output_type": "stream",
     "text": [
      "/home/morrisreeves/anaconda3/lib/python3.8/site-packages/responsibly-0.1.3-py3.8.egg/responsibly/we/weat.py:367: UserWarning: Given weat_data was filterd by model.\n"
     ]
    }
   ],
   "source": [
    "# compute WEAT score in math vs. arts and science vs. arts comparisons, using Caliskan et al. (2016) word lists\n",
    "math_arts = get_results('Math vs. Arts')\n",
    "science_arts = get_results('Science vs. Arts')"
   ]
  },
  {
   "cell_type": "code",
   "execution_count": 40,
   "metadata": {},
   "outputs": [
    {
     "data": {
      "text/html": [
       "<div>\n",
       "<style scoped>\n",
       "    .dataframe tbody tr th:only-of-type {\n",
       "        vertical-align: middle;\n",
       "    }\n",
       "\n",
       "    .dataframe tbody tr th {\n",
       "        vertical-align: top;\n",
       "    }\n",
       "\n",
       "    .dataframe thead th {\n",
       "        text-align: right;\n",
       "    }\n",
       "</style>\n",
       "<table border=\"1\" class=\"dataframe\">\n",
       "  <thead>\n",
       "    <tr style=\"text-align: right;\">\n",
       "      <th></th>\n",
       "      <th>10000</th>\n",
       "      <th>15000</th>\n",
       "      <th>20000</th>\n",
       "      <th>25000</th>\n",
       "      <th>30000</th>\n",
       "    </tr>\n",
       "  </thead>\n",
       "  <tbody>\n",
       "    <tr>\n",
       "      <th>tweet_eval</th>\n",
       "      <td></td>\n",
       "      <td></td>\n",
       "      <td>0.072517</td>\n",
       "      <td>1.152475</td>\n",
       "      <td>0.908152</td>\n",
       "    </tr>\n",
       "    <tr>\n",
       "      <th>reddit</th>\n",
       "      <td>0.3198</td>\n",
       "      <td>-0.501291</td>\n",
       "      <td>-0.39503</td>\n",
       "      <td>-0.334588</td>\n",
       "      <td>0.132546</td>\n",
       "    </tr>\n",
       "    <tr>\n",
       "      <th>cnn_dailymail</th>\n",
       "      <td>0.974229</td>\n",
       "      <td>0.954494</td>\n",
       "      <td>0.606756</td>\n",
       "      <td>0.50744</td>\n",
       "      <td>0.503277</td>\n",
       "    </tr>\n",
       "  </tbody>\n",
       "</table>\n",
       "</div>"
      ],
      "text/plain": [
       "                  10000     15000     20000     25000     30000\n",
       "tweet_eval                         0.072517  1.152475  0.908152\n",
       "reddit           0.3198 -0.501291  -0.39503 -0.334588  0.132546\n",
       "cnn_dailymail  0.974229  0.954494  0.606756   0.50744  0.503277"
      ]
     },
     "execution_count": 40,
     "metadata": {},
     "output_type": "execute_result"
    }
   ],
   "source": [
    "math_arts"
   ]
  },
  {
   "cell_type": "code",
   "execution_count": 41,
   "metadata": {},
   "outputs": [
    {
     "data": {
      "text/html": [
       "<div>\n",
       "<style scoped>\n",
       "    .dataframe tbody tr th:only-of-type {\n",
       "        vertical-align: middle;\n",
       "    }\n",
       "\n",
       "    .dataframe tbody tr th {\n",
       "        vertical-align: top;\n",
       "    }\n",
       "\n",
       "    .dataframe thead th {\n",
       "        text-align: right;\n",
       "    }\n",
       "</style>\n",
       "<table border=\"1\" class=\"dataframe\">\n",
       "  <thead>\n",
       "    <tr style=\"text-align: right;\">\n",
       "      <th></th>\n",
       "      <th>10000</th>\n",
       "      <th>15000</th>\n",
       "      <th>20000</th>\n",
       "      <th>25000</th>\n",
       "      <th>30000</th>\n",
       "    </tr>\n",
       "  </thead>\n",
       "  <tbody>\n",
       "    <tr>\n",
       "      <th>tweet_eval</th>\n",
       "      <td></td>\n",
       "      <td></td>\n",
       "      <td>-0.483205</td>\n",
       "      <td>-0.167218</td>\n",
       "      <td>0.410633</td>\n",
       "    </tr>\n",
       "    <tr>\n",
       "      <th>reddit</th>\n",
       "      <td>0.504131</td>\n",
       "      <td>-0.090586</td>\n",
       "      <td>0.121498</td>\n",
       "      <td>0.539843</td>\n",
       "      <td>0.650969</td>\n",
       "    </tr>\n",
       "    <tr>\n",
       "      <th>cnn_dailymail</th>\n",
       "      <td>0.150434</td>\n",
       "      <td>0.445619</td>\n",
       "      <td>0.722437</td>\n",
       "      <td>0.156172</td>\n",
       "      <td>0.171914</td>\n",
       "    </tr>\n",
       "  </tbody>\n",
       "</table>\n",
       "</div>"
      ],
      "text/plain": [
       "                  10000     15000     20000     25000     30000\n",
       "tweet_eval                        -0.483205 -0.167218  0.410633\n",
       "reddit         0.504131 -0.090586  0.121498  0.539843  0.650969\n",
       "cnn_dailymail  0.150434  0.445619  0.722437  0.156172  0.171914"
      ]
     },
     "execution_count": 41,
     "metadata": {},
     "output_type": "execute_result"
    }
   ],
   "source": [
    "science_arts"
   ]
  },
  {
   "cell_type": "code",
   "execution_count": 44,
   "metadata": {
    "scrolled": true
   },
   "outputs": [
    {
     "data": {
      "image/png": "[encoded data removed]",
      "text/plain": [
       "<Figure size 1000x400 with 2 Axes>"
      ]
     },
     "metadata": {},
     "output_type": "display_data"
    }
   ],
   "source": [
    "# visualize WEAT scores (technically, effect sizes, which are like Cohen's d) for Math/Arts in heatmap\n",
    "\n",
    "import seaborn as sns\n",
    "import matplotlib.pyplot as plt \n",
    "sns.set_context('talk')\n",
    "\n",
    "plt.figure(figsize = (10,4))\n",
    "sns.heatmap(math_arts.replace('', np.nan).values, annot=True, \n",
    "            xticklabels=sizes,\n",
    "            yticklabels=datasets, cmap = 'RdBu')\n",
    "plt.title(\"WEAT effect size\\n(Math vs. Arts / Male vs female terms)\");"
   ]
  },
  {
   "cell_type": "code",
   "execution_count": 45,
   "metadata": {},
   "outputs": [
    {
     "data": {
      "image/png": "[encoded data removed]",
      "text/plain": [
       "<Figure size 1000x400 with 2 Axes>"
      ]
     },
     "metadata": {},
     "output_type": "display_data"
    }
   ],
   "source": [
    "# visualize WEAT scores (technically, effect sizes, which are like Cohen's d) for Science/Arts in heatmap\n",
    "\n",
    "plt.figure(figsize = (10,4))\n",
    "sns.heatmap(science_arts.replace('', np.nan).values, annot=True, \n",
    "            xticklabels=sizes,\n",
    "            yticklabels=datasets, cmap = 'RdBu')\n",
    "plt.title(\"WEAT effect size\\n(Science vs. Arts / Male vs female terms)\");"
   ]
  },
  {
   "cell_type": "code",
   "execution_count": 46,
   "metadata": {},
   "outputs": [],
   "source": [
    "# Compute bad words bias metric \n",
    "\n",
    "bad_words_path = \"./data/bad-words.txt\"\n",
    "with open(bad_words_path, 'r') as file:\n",
    "    bad_words = [i[:-1] for i in file.readlines()][1:]\n",
    "\n",
    "male_words = ['he', 'male', 'man', 'father', 'boy', 'husband']\n",
    "female_words = ['she', 'female', 'woman', 'mother', 'girl', 'wife']\n",
    "\n",
    "def calculate_cos_with_badwords(embedding):\n",
    "    res = {}\n",
    "    bad_words_invocab = [b for b in bad_words if b in embedding]\n",
    "    for m, f in zip(male_words, female_words):\n",
    "        x = [cos_similarity(w, m, embedding) for w in bad_words_invocab]\n",
    "        y = [cos_similarity(w, f, embedding) for w in bad_words_invocab]\n",
    "        res[(m,f)] = (x, y)\n",
    "    return res\n",
    "\n",
    "def cos_similarity(w1, w2, embedding):\n",
    "    try:\n",
    "        e1 = embedding[w1]\n",
    "        e2 = embedding[w2]\n",
    "        return (e1*e2).sum()/np.sqrt((e1*e1).sum()*(e2*e2).sum())\n",
    "    except:\n",
    "        for w in [w1, w2]:\n",
    "            if w not in embedding:\n",
    "                print(f\"{w} not in vocab\")\n",
    "        return np.nan"
   ]
  },
  {
   "cell_type": "code",
   "execution_count": 47,
   "metadata": {},
   "outputs": [
    {
     "name": "stdout",
     "output_type": "stream",
     "text": [
      "tweet_eval, 10000\n",
      "Loaded data/tweet_eval_10000_vectors.kv.\n",
      "tweet_eval, 15000\n",
      "Loaded data/tweet_eval_15000_vectors.kv.\n",
      "tweet_eval, 20000\n",
      "Loaded data/tweet_eval_20000_vectors.kv.\n",
      "tweet_eval, 25000\n",
      "Loaded data/tweet_eval_25000_vectors.kv.\n",
      "tweet_eval, 30000\n",
      "Loaded data/tweet_eval_30000_vectors.kv.\n",
      "reddit, 10000\n",
      "Loaded data/reddit_10000_vectors.kv.\n",
      "reddit, 15000\n",
      "Loaded data/reddit_15000_vectors.kv.\n",
      "reddit, 20000\n",
      "Loaded data/reddit_20000_vectors.kv.\n",
      "reddit, 25000\n",
      "Loaded data/reddit_25000_vectors.kv.\n",
      "reddit, 30000\n",
      "Loaded data/reddit_30000_vectors.kv.\n",
      "cnn_dailymail, 10000\n",
      "Loaded data/cnn_dailymail_10000_vectors.kv.\n",
      "cnn_dailymail, 15000\n",
      "Loaded data/cnn_dailymail_15000_vectors.kv.\n",
      "cnn_dailymail, 20000\n",
      "Loaded data/cnn_dailymail_20000_vectors.kv.\n",
      "cnn_dailymail, 25000\n",
      "Loaded data/cnn_dailymail_25000_vectors.kv.\n",
      "cnn_dailymail, 30000\n",
      "Loaded data/cnn_dailymail_30000_vectors.kv.\n"
     ]
    },
    {
     "data": {
      "image/png": "[encoded data removed]",
      "text/plain": [
       "<Figure size 640x480 with 2 Axes>"
      ]
     },
     "metadata": {},
     "output_type": "display_data"
    }
   ],
   "source": [
    "# Plot mean cosine similarity with bad words\n",
    "import matplotlib\n",
    "summary_mean_difference = {}\n",
    "matplotlib.rc_file_defaults()\n",
    "cmap = sns.color_palette(\"vlag\", as_cmap=True)\n",
    "\n",
    "for d in datasets:\n",
    "    for s in sizes:\n",
    "        print(f\"{d}, {s}\")\n",
    "        EMBEDDINGS_FILE = f'data/{d}_{s}_vectors.kv' # file directory of local embeddings file\n",
    "        word_vectors = KeyedVectors.load(EMBEDDINGS_FILE)\n",
    "        print(f\"Loaded {EMBEDDINGS_FILE}.\")\n",
    "        v = calculate_cos_with_badwords(word_vectors)\n",
    "        summary_mean_difference[f\"{d}_{s}\"] = {i:np.nanmean(j[0])-np.nanmean(j[1]) for i,j in v.items()}\n",
    "\n",
    "df = pd.DataFrame.from_dict(summary_mean_difference, orient='index')\n",
    "sns.heatmap(df, cmap=cmap, center=0, cbar_kws={'label': 'biased against female-----biased against male'})\n",
    "plt.xlabel('gender related words')\n",
    "plt.ylabel('Different embeddings')\n",
    "plt.title('Difference in mean cosine similarity with bad words between male and female words')\n",
    "plt.show()"
   ]
  }
 ],
 "metadata": {
  "kernelspec": {
   "display_name": "Python 3",
   "language": "python",
   "name": "python3"
  },
  "language_info": {
   "codemirror_mode": {
    "name": "ipython",
    "version": 3
   },
   "file_extension": ".py",
   "mimetype": "text/x-python",
   "name": "python",
   "nbconvert_exporter": "python",
   "pygments_lexer": "ipython3",
   "version": "3.8.3"
  }
 },
 "nbformat": 4,
 "nbformat_minor": 4
}
